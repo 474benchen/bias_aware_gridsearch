{
 "cells": [
  {
   "cell_type": "markdown",
   "metadata": {},
   "source": [
    "# EDA of COMPAS Recidivism Data\n",
    "By Jayson Leach"
   ]
  },
  {
   "cell_type": "code",
   "execution_count": 1,
   "metadata": {},
   "outputs": [
    {
     "name": "stdout",
     "output_type": "stream",
     "text": [
      "Intel MKL WARNING: Support of Intel(R) Streaming SIMD Extensions 4.2 (Intel(R) SSE4.2) enabled only processors has been deprecated. Intel oneAPI Math Kernel Library 2025.0 will require Intel(R) Advanced Vector Extensions (Intel(R) AVX) instructions.\n",
      "Intel MKL WARNING: Support of Intel(R) Streaming SIMD Extensions 4.2 (Intel(R) SSE4.2) enabled only processors has been deprecated. Intel oneAPI Math Kernel Library 2025.0 will require Intel(R) Advanced Vector Extensions (Intel(R) AVX) instructions.\n"
     ]
    }
   ],
   "source": [
    "# data processing\n",
    "import pandas as pd\n",
    "import numpy as np\n",
    "from datetime import datetime\n",
    "\n",
    "# data visualization\n",
    "%matplotlib inline\n",
    "import matplotlib.pyplot as plt\n",
    "from IPython.display import Markdown, display\n",
    "import seaborn as sns\n",
    "\n",
    "# model\n",
    "from sklearn.model_selection import train_test_split\n",
    "from sklearn.preprocessing import LabelEncoder\n",
    "from sklearn.ensemble import RandomForestClassifier\n",
    "\n",
    "# for looks\n",
    "import warnings\n",
    "warnings.filterwarnings('ignore', category=FutureWarning)"
   ]
  },
  {
   "cell_type": "markdown",
   "metadata": {},
   "source": [
    "### Importing & Filtering Data\n",
    "For ease of use, I used Propublica's combined and filtered dataset they created from compas.db. The dataset cotains one row for every person and only contains people who recieved COMPAS scores."
   ]
  },
  {
   "cell_type": "code",
   "execution_count": 2,
   "metadata": {},
   "outputs": [
    {
     "data": {
      "text/html": [
       "<div>\n",
       "<style scoped>\n",
       "    .dataframe tbody tr th:only-of-type {\n",
       "        vertical-align: middle;\n",
       "    }\n",
       "\n",
       "    .dataframe tbody tr th {\n",
       "        vertical-align: top;\n",
       "    }\n",
       "\n",
       "    .dataframe thead th {\n",
       "        text-align: right;\n",
       "    }\n",
       "</style>\n",
       "<table border=\"1\" class=\"dataframe\">\n",
       "  <thead>\n",
       "    <tr style=\"text-align: right;\">\n",
       "      <th></th>\n",
       "      <th>id</th>\n",
       "      <th>name</th>\n",
       "      <th>first</th>\n",
       "      <th>last</th>\n",
       "      <th>compas_screening_date</th>\n",
       "      <th>sex</th>\n",
       "      <th>dob</th>\n",
       "      <th>age</th>\n",
       "      <th>age_cat</th>\n",
       "      <th>race</th>\n",
       "      <th>...</th>\n",
       "      <th>vr_charge_degree</th>\n",
       "      <th>vr_offense_date</th>\n",
       "      <th>vr_charge_desc</th>\n",
       "      <th>v_type_of_assessment</th>\n",
       "      <th>v_decile_score</th>\n",
       "      <th>v_score_text</th>\n",
       "      <th>v_screening_date</th>\n",
       "      <th>type_of_assessment</th>\n",
       "      <th>score_text</th>\n",
       "      <th>screening_date</th>\n",
       "    </tr>\n",
       "  </thead>\n",
       "  <tbody>\n",
       "    <tr>\n",
       "      <th>0</th>\n",
       "      <td>1</td>\n",
       "      <td>miguel hernandez</td>\n",
       "      <td>miguel</td>\n",
       "      <td>hernandez</td>\n",
       "      <td>2013-08-14</td>\n",
       "      <td>Male</td>\n",
       "      <td>1947-04-18</td>\n",
       "      <td>69</td>\n",
       "      <td>Greater than 45</td>\n",
       "      <td>Other</td>\n",
       "      <td>...</td>\n",
       "      <td>NaN</td>\n",
       "      <td>NaN</td>\n",
       "      <td>NaN</td>\n",
       "      <td>Risk of Violence</td>\n",
       "      <td>1</td>\n",
       "      <td>Low</td>\n",
       "      <td>2013-08-14</td>\n",
       "      <td>Risk of Recidivism</td>\n",
       "      <td>Low</td>\n",
       "      <td>2013-08-14</td>\n",
       "    </tr>\n",
       "    <tr>\n",
       "      <th>2</th>\n",
       "      <td>3</td>\n",
       "      <td>kevon dixon</td>\n",
       "      <td>kevon</td>\n",
       "      <td>dixon</td>\n",
       "      <td>2013-01-27</td>\n",
       "      <td>Male</td>\n",
       "      <td>1982-01-22</td>\n",
       "      <td>34</td>\n",
       "      <td>25 - 45</td>\n",
       "      <td>African-American</td>\n",
       "      <td>...</td>\n",
       "      <td>(F3)</td>\n",
       "      <td>2013-07-05</td>\n",
       "      <td>Felony Battery (Dom Strang)</td>\n",
       "      <td>Risk of Violence</td>\n",
       "      <td>1</td>\n",
       "      <td>Low</td>\n",
       "      <td>2013-01-27</td>\n",
       "      <td>Risk of Recidivism</td>\n",
       "      <td>Low</td>\n",
       "      <td>2013-01-27</td>\n",
       "    </tr>\n",
       "    <tr>\n",
       "      <th>3</th>\n",
       "      <td>4</td>\n",
       "      <td>ed philo</td>\n",
       "      <td>ed</td>\n",
       "      <td>philo</td>\n",
       "      <td>2013-04-14</td>\n",
       "      <td>Male</td>\n",
       "      <td>1991-05-14</td>\n",
       "      <td>24</td>\n",
       "      <td>Less than 25</td>\n",
       "      <td>African-American</td>\n",
       "      <td>...</td>\n",
       "      <td>NaN</td>\n",
       "      <td>NaN</td>\n",
       "      <td>NaN</td>\n",
       "      <td>Risk of Violence</td>\n",
       "      <td>3</td>\n",
       "      <td>Low</td>\n",
       "      <td>2013-04-14</td>\n",
       "      <td>Risk of Recidivism</td>\n",
       "      <td>Low</td>\n",
       "      <td>2013-04-14</td>\n",
       "    </tr>\n",
       "    <tr>\n",
       "      <th>4</th>\n",
       "      <td>5</td>\n",
       "      <td>marcu brown</td>\n",
       "      <td>marcu</td>\n",
       "      <td>brown</td>\n",
       "      <td>2013-01-13</td>\n",
       "      <td>Male</td>\n",
       "      <td>1993-01-21</td>\n",
       "      <td>23</td>\n",
       "      <td>Less than 25</td>\n",
       "      <td>African-American</td>\n",
       "      <td>...</td>\n",
       "      <td>NaN</td>\n",
       "      <td>NaN</td>\n",
       "      <td>NaN</td>\n",
       "      <td>Risk of Violence</td>\n",
       "      <td>6</td>\n",
       "      <td>Medium</td>\n",
       "      <td>2013-01-13</td>\n",
       "      <td>Risk of Recidivism</td>\n",
       "      <td>High</td>\n",
       "      <td>2013-01-13</td>\n",
       "    </tr>\n",
       "    <tr>\n",
       "      <th>5</th>\n",
       "      <td>6</td>\n",
       "      <td>bouthy pierrelouis</td>\n",
       "      <td>bouthy</td>\n",
       "      <td>pierrelouis</td>\n",
       "      <td>2013-03-26</td>\n",
       "      <td>Male</td>\n",
       "      <td>1973-01-22</td>\n",
       "      <td>43</td>\n",
       "      <td>25 - 45</td>\n",
       "      <td>Other</td>\n",
       "      <td>...</td>\n",
       "      <td>NaN</td>\n",
       "      <td>NaN</td>\n",
       "      <td>NaN</td>\n",
       "      <td>Risk of Violence</td>\n",
       "      <td>1</td>\n",
       "      <td>Low</td>\n",
       "      <td>2013-03-26</td>\n",
       "      <td>Risk of Recidivism</td>\n",
       "      <td>Low</td>\n",
       "      <td>2013-03-26</td>\n",
       "    </tr>\n",
       "  </tbody>\n",
       "</table>\n",
       "<p>5 rows × 46 columns</p>\n",
       "</div>"
      ],
      "text/plain": [
       "   id                name   first         last compas_screening_date   sex  \\\n",
       "0   1    miguel hernandez  miguel    hernandez            2013-08-14  Male   \n",
       "2   3         kevon dixon   kevon        dixon            2013-01-27  Male   \n",
       "3   4            ed philo      ed        philo            2013-04-14  Male   \n",
       "4   5         marcu brown   marcu        brown            2013-01-13  Male   \n",
       "5   6  bouthy pierrelouis  bouthy  pierrelouis            2013-03-26  Male   \n",
       "\n",
       "          dob  age          age_cat              race  ...  vr_charge_degree  \\\n",
       "0  1947-04-18   69  Greater than 45             Other  ...               NaN   \n",
       "2  1982-01-22   34          25 - 45  African-American  ...              (F3)   \n",
       "3  1991-05-14   24     Less than 25  African-American  ...               NaN   \n",
       "4  1993-01-21   23     Less than 25  African-American  ...               NaN   \n",
       "5  1973-01-22   43          25 - 45             Other  ...               NaN   \n",
       "\n",
       "   vr_offense_date               vr_charge_desc  v_type_of_assessment  \\\n",
       "0              NaN                          NaN      Risk of Violence   \n",
       "2       2013-07-05  Felony Battery (Dom Strang)      Risk of Violence   \n",
       "3              NaN                          NaN      Risk of Violence   \n",
       "4              NaN                          NaN      Risk of Violence   \n",
       "5              NaN                          NaN      Risk of Violence   \n",
       "\n",
       "   v_decile_score  v_score_text v_screening_date  type_of_assessment  \\\n",
       "0               1           Low       2013-08-14  Risk of Recidivism   \n",
       "2               1           Low       2013-01-27  Risk of Recidivism   \n",
       "3               3           Low       2013-04-14  Risk of Recidivism   \n",
       "4               6        Medium       2013-01-13  Risk of Recidivism   \n",
       "5               1           Low       2013-03-26  Risk of Recidivism   \n",
       "\n",
       "  score_text screening_date  \n",
       "0        Low     2013-08-14  \n",
       "2        Low     2013-01-27  \n",
       "3        Low     2013-04-14  \n",
       "4       High     2013-01-13  \n",
       "5        Low     2013-03-26  \n",
       "\n",
       "[5 rows x 46 columns]"
      ]
     },
     "execution_count": 2,
     "metadata": {},
     "output_type": "execute_result"
    }
   ],
   "source": [
    "compas = pd.read_csv('compas-scores.csv')\n",
    "# copy filtration methods from ProPublica analysis\n",
    "compas = compas[(compas['is_recid'] != -1) & (compas['c_charge_degree'] != 'O') & \n",
    "                (compas['score_text'] != 'N/A')].drop(columns='decile_score.1')\n",
    "compas = compas.replace('NaN', np.nan)\n",
    "compas.head()"
   ]
  },
  {
   "cell_type": "markdown",
   "metadata": {},
   "source": [
    "The dataset has 46 columns all having to do with either the person's demographics, their criminal history, or information regarding their COMPAS scoring. It will later be reduced to 16 after dropping columns with NaN values, those involving specifically violent recidivism, and personal information."
   ]
  },
  {
   "cell_type": "code",
   "execution_count": 3,
   "metadata": {},
   "outputs": [
    {
     "data": {
      "text/plain": [
       "(11002, 46)"
      ]
     },
     "execution_count": 3,
     "metadata": {},
     "output_type": "execute_result"
    }
   ],
   "source": [
    "compas.shape"
   ]
  },
  {
   "cell_type": "markdown",
   "metadata": {},
   "source": [
    "The analysis done by ProPublica advises to remove datapoitns with differences between COMPAS screening date and arrest date greater than 30 days, because of potential unreliability. I concur that too large of a difference could be a sign of unreliable data, but I also think it is important to maintain 10,000 data points. In addition, there could be other reasons for large differences in dates, like legal issues or processing times depending on the severity of the crime. I chose to compromise and remove entries with arrest and COMPAS screening difference larger than 90 days in order to  maintaining 10,000 data points.\n"
   ]
  },
  {
   "cell_type": "code",
   "execution_count": 4,
   "metadata": {},
   "outputs": [],
   "source": [
    "days = 90\n",
    "data = compas[compas['days_b_screening_arrest'].apply(np.abs) <= days]"
   ]
  },
  {
   "cell_type": "code",
   "execution_count": 5,
   "metadata": {},
   "outputs": [],
   "source": [
    "data = data[data.decile_score > 0]\n",
    "data = data.dropna(axis=1)"
   ]
  },
  {
   "cell_type": "code",
   "execution_count": 6,
   "metadata": {},
   "outputs": [],
   "source": [
    "# create variable for length of stay\n",
    "data['c_jail_in'] = data['c_jail_in'].apply(lambda x: datetime.strptime(x, '%Y-%m-%d %H:%M:%S'))\n",
    "data['c_jail_out'] = data['c_jail_out'].apply(lambda x: datetime.strptime(x, '%Y-%m-%d %H:%M:%S'))\n",
    "data['stay_length'] = data['c_jail_out'] - data['c_jail_in']\n",
    "data['stay_length'] = data['stay_length'].apply(lambda x: x.total_seconds())"
   ]
  },
  {
   "cell_type": "code",
   "execution_count": 7,
   "metadata": {},
   "outputs": [],
   "source": [
    "# drop misc columns (most revolving violent recidivism)\n",
    "data = data[['id', 'sex', 'age', 'age_cat', 'race', 'days_b_screening_arrest', 'c_days_from_compas',\n",
    "             'juv_fel_count', 'juv_misd_count', 'juv_other_count', 'priors_count',\n",
    "            'c_charge_degree', 'stay_length', 'decile_score', 'score_text', 'is_recid']]"
   ]
  },
  {
   "cell_type": "code",
   "execution_count": 8,
   "metadata": {},
   "outputs": [
    {
     "data": {
      "text/plain": [
       "Index(['id', 'sex', 'age', 'age_cat', 'race', 'days_b_screening_arrest',\n",
       "       'c_days_from_compas', 'juv_fel_count', 'juv_misd_count',\n",
       "       'juv_other_count', 'priors_count', 'c_charge_degree', 'stay_length',\n",
       "       'decile_score', 'score_text', 'is_recid'],\n",
       "      dtype='object')"
      ]
     },
     "execution_count": 8,
     "metadata": {},
     "output_type": "execute_result"
    }
   ],
   "source": [
    "data.columns"
   ]
  },
  {
   "cell_type": "code",
   "execution_count": 9,
   "metadata": {},
   "outputs": [
    {
     "name": "stdout",
     "output_type": "stream",
     "text": [
      "Number of data points after filtering: 10010\n"
     ]
    }
   ],
   "source": [
    "print('Number of data points after filtering:', data.shape[0])"
   ]
  },
  {
   "cell_type": "markdown",
   "metadata": {},
   "source": [
    "### Looking at the Data: *Trends and Plots*\n",
    "\n",
    "I already know that the goal of a model trained on this data will be to predict decile_score or score_text risk (Low, Medium, High). Thus, I will look at how different groupings are distributed with respect for those two variables."
   ]
  },
  {
   "cell_type": "code",
   "execution_count": 10,
   "metadata": {},
   "outputs": [
    {
     "data": {
      "text/html": [
       "<div>\n",
       "<style scoped>\n",
       "    .dataframe tbody tr th:only-of-type {\n",
       "        vertical-align: middle;\n",
       "    }\n",
       "\n",
       "    .dataframe tbody tr th {\n",
       "        vertical-align: top;\n",
       "    }\n",
       "\n",
       "    .dataframe thead th {\n",
       "        text-align: right;\n",
       "    }\n",
       "</style>\n",
       "<table border=\"1\" class=\"dataframe\">\n",
       "  <thead>\n",
       "    <tr style=\"text-align: right;\">\n",
       "      <th></th>\n",
       "      <th>count</th>\n",
       "      <th>mean</th>\n",
       "      <th>std</th>\n",
       "      <th>min</th>\n",
       "      <th>25%</th>\n",
       "      <th>50%</th>\n",
       "      <th>75%</th>\n",
       "      <th>max</th>\n",
       "    </tr>\n",
       "  </thead>\n",
       "  <tbody>\n",
       "    <tr>\n",
       "      <th>id</th>\n",
       "      <td>10010.0</td>\n",
       "      <td>5.887682e+03</td>\n",
       "      <td>3.398811e+03</td>\n",
       "      <td>1.0</td>\n",
       "      <td>2937.25</td>\n",
       "      <td>5884.0</td>\n",
       "      <td>8831.75</td>\n",
       "      <td>11757.0</td>\n",
       "    </tr>\n",
       "    <tr>\n",
       "      <th>age</th>\n",
       "      <td>10010.0</td>\n",
       "      <td>3.483596e+01</td>\n",
       "      <td>1.187217e+01</td>\n",
       "      <td>18.0</td>\n",
       "      <td>25.00</td>\n",
       "      <td>32.0</td>\n",
       "      <td>42.00</td>\n",
       "      <td>96.0</td>\n",
       "    </tr>\n",
       "    <tr>\n",
       "      <th>days_b_screening_arrest</th>\n",
       "      <td>10010.0</td>\n",
       "      <td>-3.685814e+00</td>\n",
       "      <td>1.447769e+01</td>\n",
       "      <td>-90.0</td>\n",
       "      <td>-1.00</td>\n",
       "      <td>-1.0</td>\n",
       "      <td>-1.00</td>\n",
       "      <td>90.0</td>\n",
       "    </tr>\n",
       "    <tr>\n",
       "      <th>c_days_from_compas</th>\n",
       "      <td>10010.0</td>\n",
       "      <td>2.792977e+01</td>\n",
       "      <td>2.478921e+02</td>\n",
       "      <td>0.0</td>\n",
       "      <td>1.00</td>\n",
       "      <td>1.0</td>\n",
       "      <td>1.00</td>\n",
       "      <td>9485.0</td>\n",
       "    </tr>\n",
       "    <tr>\n",
       "      <th>juv_fel_count</th>\n",
       "      <td>10010.0</td>\n",
       "      <td>6.313686e-02</td>\n",
       "      <td>4.634829e-01</td>\n",
       "      <td>0.0</td>\n",
       "      <td>0.00</td>\n",
       "      <td>0.0</td>\n",
       "      <td>0.00</td>\n",
       "      <td>20.0</td>\n",
       "    </tr>\n",
       "    <tr>\n",
       "      <th>juv_misd_count</th>\n",
       "      <td>10010.0</td>\n",
       "      <td>7.912088e-02</td>\n",
       "      <td>4.614564e-01</td>\n",
       "      <td>0.0</td>\n",
       "      <td>0.00</td>\n",
       "      <td>0.0</td>\n",
       "      <td>0.00</td>\n",
       "      <td>13.0</td>\n",
       "    </tr>\n",
       "    <tr>\n",
       "      <th>juv_other_count</th>\n",
       "      <td>10010.0</td>\n",
       "      <td>9.850150e-02</td>\n",
       "      <td>4.635670e-01</td>\n",
       "      <td>0.0</td>\n",
       "      <td>0.00</td>\n",
       "      <td>0.0</td>\n",
       "      <td>0.00</td>\n",
       "      <td>11.0</td>\n",
       "    </tr>\n",
       "    <tr>\n",
       "      <th>priors_count</th>\n",
       "      <td>10010.0</td>\n",
       "      <td>3.160340e+00</td>\n",
       "      <td>4.690391e+00</td>\n",
       "      <td>0.0</td>\n",
       "      <td>0.00</td>\n",
       "      <td>1.0</td>\n",
       "      <td>4.00</td>\n",
       "      <td>38.0</td>\n",
       "    </tr>\n",
       "    <tr>\n",
       "      <th>stay_length</th>\n",
       "      <td>10010.0</td>\n",
       "      <td>1.970038e+06</td>\n",
       "      <td>6.141014e+06</td>\n",
       "      <td>-42137.0</td>\n",
       "      <td>77687.00</td>\n",
       "      <td>108440.5</td>\n",
       "      <td>852726.25</td>\n",
       "      <td>186015169.0</td>\n",
       "    </tr>\n",
       "    <tr>\n",
       "      <th>decile_score</th>\n",
       "      <td>10010.0</td>\n",
       "      <td>4.340460e+00</td>\n",
       "      <td>2.853497e+00</td>\n",
       "      <td>1.0</td>\n",
       "      <td>2.00</td>\n",
       "      <td>4.0</td>\n",
       "      <td>7.00</td>\n",
       "      <td>10.0</td>\n",
       "    </tr>\n",
       "    <tr>\n",
       "      <th>is_recid</th>\n",
       "      <td>10010.0</td>\n",
       "      <td>3.406593e-01</td>\n",
       "      <td>4.739546e-01</td>\n",
       "      <td>0.0</td>\n",
       "      <td>0.00</td>\n",
       "      <td>0.0</td>\n",
       "      <td>1.00</td>\n",
       "      <td>1.0</td>\n",
       "    </tr>\n",
       "  </tbody>\n",
       "</table>\n",
       "</div>"
      ],
      "text/plain": [
       "                           count          mean           std      min  \\\n",
       "id                       10010.0  5.887682e+03  3.398811e+03      1.0   \n",
       "age                      10010.0  3.483596e+01  1.187217e+01     18.0   \n",
       "days_b_screening_arrest  10010.0 -3.685814e+00  1.447769e+01    -90.0   \n",
       "c_days_from_compas       10010.0  2.792977e+01  2.478921e+02      0.0   \n",
       "juv_fel_count            10010.0  6.313686e-02  4.634829e-01      0.0   \n",
       "juv_misd_count           10010.0  7.912088e-02  4.614564e-01      0.0   \n",
       "juv_other_count          10010.0  9.850150e-02  4.635670e-01      0.0   \n",
       "priors_count             10010.0  3.160340e+00  4.690391e+00      0.0   \n",
       "stay_length              10010.0  1.970038e+06  6.141014e+06 -42137.0   \n",
       "decile_score             10010.0  4.340460e+00  2.853497e+00      1.0   \n",
       "is_recid                 10010.0  3.406593e-01  4.739546e-01      0.0   \n",
       "\n",
       "                              25%       50%        75%          max  \n",
       "id                        2937.25    5884.0    8831.75      11757.0  \n",
       "age                         25.00      32.0      42.00         96.0  \n",
       "days_b_screening_arrest     -1.00      -1.0      -1.00         90.0  \n",
       "c_days_from_compas           1.00       1.0       1.00       9485.0  \n",
       "juv_fel_count                0.00       0.0       0.00         20.0  \n",
       "juv_misd_count               0.00       0.0       0.00         13.0  \n",
       "juv_other_count              0.00       0.0       0.00         11.0  \n",
       "priors_count                 0.00       1.0       4.00         38.0  \n",
       "stay_length              77687.00  108440.5  852726.25  186015169.0  \n",
       "decile_score                 2.00       4.0       7.00         10.0  \n",
       "is_recid                     0.00       0.0       1.00          1.0  "
      ]
     },
     "execution_count": 10,
     "metadata": {},
     "output_type": "execute_result"
    }
   ],
   "source": [
    "data.describe().T"
   ]
  },
  {
   "cell_type": "markdown",
   "metadata": {},
   "source": [
    "Below are three plots. The left-most plot is showing the distribution of risk catgegories with individuals between 45 and 96. Here, we can see low risk of recidivism makes up the majority of this group. The middle plot is showing the distribution of risk categories with individuals between the ages of 25 and 45. Similarly, low recidivism makes up the majority of this age group. The right-most plot is showing the distribution of risk catgegories with individuals between 18 and 25. Here, the difference in recidivism risk is much lower, with all three categories of risk being near even.\n",
    "\n",
    "We can also look at the areas of the bars in each age categories to see that the majority of the people in the data are between 25 and 45, accounting for around 57% of the data. Both other categories account for around 21% each, with the group 45 and older being slightly larger by 37 entries."
   ]
  },
  {
   "cell_type": "code",
   "execution_count": 11,
   "metadata": {},
   "outputs": [
    {
     "data": {
      "image/png": "[encoded data removed]",
      "text/plain": [
       "<Figure size 1500x500 with 3 Axes>"
      ]
     },
     "metadata": {},
     "output_type": "display_data"
    }
   ],
   "source": [
    "sns.displot(data, x='score_text', col='age_cat', stat='probability')\n",
    "plt.show()"
   ]
  },
  {
   "cell_type": "markdown",
   "metadata": {},
   "source": [
    "Below are another three plots. This time we are looking at the distribution of race within each risk category. The left-most plot is showing the distribution of race within the 'Low' risk category. Here, we can see 'Caucasian' and 'African-American' are the 1 and 2 respectively. The middle plot is showing the distribution of race within the 'Medium' risk category. This one is much different from the low; 'African-American' hurdles 'White' to be the most in this risk category. The right-most plot is showing the distribution of race within the 'High' risk category. This is similar to the medium group with all racial groups except 'African-Anerican' dropping even more."
   ]
  },
  {
   "cell_type": "code",
   "execution_count": 12,
   "metadata": {},
   "outputs": [
    {
     "data": {
      "image/png": "[encoded data removed]",
      "text/plain": [
       "<Figure size 1500x500 with 3 Axes>"
      ]
     },
     "metadata": {},
     "output_type": "display_data"
    }
   ],
   "source": [
    "plot = sns.displot(data, x='race', col='score_text')\n",
    "plot.tick_params(axis='x', which='major', labelsize=6)\n",
    "plt.show()"
   ]
  },
  {
   "cell_type": "markdown",
   "metadata": {},
   "source": [
    "Based on the previous graphs, it is clear that racial groups of black and white are the most present in the data. It can also be suspected that white is not distributed similarly to the other racial groups with regards to risk. Instead of looking at score_text, I want to view the raw decile_scores. Below, the data is filtered with the goal of finding the difference in distributions between the two largest groups (white and black) with respect to decile scores."
   ]
  },
  {
   "cell_type": "code",
   "execution_count": 13,
   "metadata": {},
   "outputs": [],
   "source": [
    "bw_data = data[(data['race'] == 'Caucasian')| (data['race'] == 'African-American')]\n",
    "bw_data = bw_data.groupby(['race', 'decile_score']).count()['id'].reset_index().rename(columns={'id':'count'})\n",
    "bw_data['proportion'] = bw_data.groupby('race')['count'].transform(lambda x: x / x.sum())"
   ]
  },
  {
   "cell_type": "markdown",
   "metadata": {},
   "source": [
    "The plot below shows the difference in distribution of decile scores between the white and black racial groups. For the white group, proportion of the group with a decile score decreases as the score increases, with the majority of the group having decile scores 1-3. For the black group, that difference is a lot less noticable. It appears that as decile score increases the proportion of the black racial group stays around the same. That is to say that the black group is roughly evenly distributed between decile scores while the white group's distribution appears more right skewed."
   ]
  },
  {
   "cell_type": "code",
   "execution_count": 14,
   "metadata": {},
   "outputs": [
    {
     "data": {
      "image/png": "[encoded data removed]",
      "text/plain": [
       "<Figure size 669.375x500 with 1 Axes>"
      ]
     },
     "metadata": {},
     "output_type": "display_data"
    }
   ],
   "source": [
    "sns.catplot(data=bw_data, kind='bar', x='decile_score', y='proportion', hue='race', palette=['tomato',\n",
    "                                                                                             'deepskyblue'])\n",
    "plt.title('Black vs. White Decile Scores')\n",
    "plt.show()"
   ]
  },
  {
   "cell_type": "markdown",
   "metadata": {},
   "source": [
    "### Test Model for Statistical Parity Difference\n",
    "\n",
    "The following code blocks were used for the development and testing of a statistical parity difference function."
   ]
  },
  {
   "cell_type": "code",
   "execution_count": 15,
   "metadata": {},
   "outputs": [],
   "source": [
    "# split data into training and test sets\n",
    "X = data.drop(columns=['is_recid'])\n",
    "y = data['is_recid']"
   ]
  },
  {
   "cell_type": "code",
   "execution_count": 16,
   "metadata": {},
   "outputs": [],
   "source": [
    "# categorical data to ints\n",
    "X['sex'] = LabelEncoder().fit_transform(X['sex'])\n",
    "X['age_cat'] = LabelEncoder().fit_transform(X['age_cat'])\n",
    "X['race'] = LabelEncoder().fit_transform(X['race'])\n",
    "X['c_charge_degree'] = LabelEncoder().fit_transform(X['c_charge_degree'])\n",
    "X['score_text'] = LabelEncoder().fit_transform(X['score_text'])"
   ]
  },
  {
   "cell_type": "code",
   "execution_count": 17,
   "metadata": {},
   "outputs": [
    {
     "name": "stdout",
     "output_type": "stream",
     "text": [
      "Training data size: 8008\n",
      "Testing data size: 2002\n"
     ]
    }
   ],
   "source": [
    "# train test split\n",
    "X_train, X_test, y_train, y_test = train_test_split(X, y, test_size=0.2, random_state=8)\n",
    "print('Training data size:', X_train.shape[0])\n",
    "print('Testing data size:', X_test.shape[0])"
   ]
  },
  {
   "cell_type": "markdown",
   "metadata": {},
   "source": [
    "Unmodified Random Forest Classifier will be used to create basic predictions data."
   ]
  },
  {
   "cell_type": "code",
   "execution_count": 18,
   "metadata": {},
   "outputs": [
    {
     "name": "stdout",
     "output_type": "stream",
     "text": [
      "Testing accuracy: 0.7117882117882118\n"
     ]
    }
   ],
   "source": [
    "model = RandomForestClassifier(random_state=8)\n",
    "model.fit(X_train, y_train)\n",
    "y_pred = model.predict(X_test)\n",
    "test_acc = (y_pred == y_test).mean()\n",
    "print('Testing accuracy:', test_acc)"
   ]
  },
  {
   "cell_type": "code",
   "execution_count": 19,
   "metadata": {},
   "outputs": [
    {
     "name": "stdout",
     "output_type": "stream",
     "text": [
      "Prediction Accuracy by Race:\n"
     ]
    },
    {
     "data": {
      "text/plain": [
       "race\n",
       "African-American    0.683948\n",
       "Asian               0.923077\n",
       "Caucasian           0.729226\n",
       "Hispanic            0.737143\n",
       "Native American     1.000000\n",
       "Other               0.781818\n",
       "dtype: float64"
      ]
     },
     "execution_count": 19,
     "metadata": {},
     "output_type": "execute_result"
    }
   ],
   "source": [
    "test = X_test.copy()\n",
    "test['pred'] = y_pred\n",
    "test = test[['id', 'pred']]\n",
    "test = test.set_index('id').join(data.set_index('id'), how='inner')[['sex', 'age', 'age_cat', 'race', 'is_recid',\n",
    "                                                                     'pred']]\n",
    "print('Prediction Accuracy by Race:')\n",
    "test.groupby('race').apply(lambda x: (x['is_recid'] == x['pred']).mean())"
   ]
  },
  {
   "cell_type": "markdown",
   "metadata": {},
   "source": [
    "#### Statistical Parity Difference Function\n",
    "Below is the statistical parrity difference function and the results with respect to race."
   ]
  },
  {
   "cell_type": "code",
   "execution_count": 20,
   "metadata": {},
   "outputs": [],
   "source": [
    "def statistical_parity_difference(dataset, protected_attribute, prediction_var, favorable_outcome):\n",
    "    \"\"\" Calculate statistical parity difference for pandas table that includes protected attribute\n",
    "    and prediction. \n",
    "    dataset = pandas table\n",
    "    protected_attribute = column name of targeted attribute in dataset\n",
    "    prediction_var = column name of prediction attribute in dataset\n",
    "    favorable_outcome = value of positive outcome in prediction column\n",
    "    returns dictionary of statistical parity difference for each unique value in column protected_attribute\n",
    "    \"\"\"\n",
    "    spd_by_attribute = {}\n",
    "    for attribute in dataset[protected_attribute].unique():\n",
    "        prob_minority = (dataset[dataset[protected_attribute] == attribute][prediction_var]\n",
    "                        == favorable_outcome).mean()\n",
    "        prob_majority = (dataset[dataset[protected_attribute] != attribute][prediction_var]\n",
    "                        == favorable_outcome).mean()\n",
    "        spd_by_attribute[attribute] = prob_minority - prob_majority\n",
    "    return spd_by_attribute"
   ]
  },
  {
   "cell_type": "code",
   "execution_count": 21,
   "metadata": {},
   "outputs": [
    {
     "data": {
      "text/plain": [
       "{'Caucasian': 0.14309728057376903,\n",
       " 'Hispanic': 0.11505199781061848,\n",
       " 'African-American': -0.1919317123703963,\n",
       " 'Other': 0.11659619450317116,\n",
       " 'Asian': 0.06586224233283056,\n",
       " 'Native American': -0.11422377855594468}"
      ]
     },
     "execution_count": 21,
     "metadata": {},
     "output_type": "execute_result"
    }
   ],
   "source": [
    "statistical_parity_difference(test, 'race', 'pred', 0)"
   ]
  }
 ],
 "metadata": {
  "kernelspec": {
   "display_name": "Python 3",
   "language": "python",
   "name": "python3"
  },
  "language_info": {
   "codemirror_mode": {
    "name": "ipython",
    "version": 3
   },
   "file_extension": ".py",
   "mimetype": "text/x-python",
   "name": "python",
   "nbconvert_exporter": "python",
   "pygments_lexer": "ipython3",
   "version": "3.9.18"
  }
 },
 "nbformat": 4,
 "nbformat_minor": 2
}
