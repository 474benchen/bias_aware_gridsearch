{
 "cells": [
  {
   "cell_type": "code",
   "execution_count": 1,
   "id": "402fefa0",
   "metadata": {},
   "outputs": [],
   "source": [
    "# import basic packages\n",
    "import pandas as pd\n",
    "import seaborn as sns\n",
    "import numpy as np\n",
    "import matplotlib.pyplot as plt\n",
    "\n",
    "# import models\n",
    "from sklearn.ensemble import RandomForestClassifier\n",
    "from sklearn.model_selection import GridSearchCV\n",
    "\n",
    "# import train test\n",
    "from sklearn.model_selection import train_test_split"
   ]
  },
  {
   "cell_type": "markdown",
   "id": "97a83dd5",
   "metadata": {},
   "source": [
    "### Prediction Task: Will an applicant be approved for a home purchase conventional mortgage?"
   ]
  },
  {
   "cell_type": "markdown",
   "id": "8ae30e94",
   "metadata": {},
   "source": [
    "### Data Processing"
   ]
  },
  {
   "cell_type": "code",
   "execution_count": 2,
   "id": "2a21477a",
   "metadata": {},
   "outputs": [
    {
     "name": "stderr",
     "output_type": "stream",
     "text": [
      "/var/folders/gp/89jvsfhd6zn10r7krkzw4l7w0000gn/T/ipykernel_27480/3640280804.py:8: DtypeWarning: Columns (34,36,38,44,46,48) have mixed types. Specify dtype option on import or set low_memory=False.\n",
      "  mort_df = pd.read_csv('hmda_2017_nationwide_all-records_labels.csv')\n"
     ]
    }
   ],
   "source": [
    "# read in all mortgage data from 2017\n",
    "'''\n",
    "I could use data from more years as well, just that the data is extremely large and would take up a good amount of \n",
    "space to run. Given that our final algorithm will be slow as is, I think limiting the amount of data we train with\n",
    "would make things easier overall (especially since we aren't really looking for a perfect model). Lmk what y'all \n",
    "think!\n",
    "''' \n",
    "mort_df = pd.read_csv('hmda_2017_nationwide_all-records_labels.csv')"
   ]
  },
  {
   "cell_type": "code",
   "execution_count": 3,
   "id": "7677310d",
   "metadata": {},
   "outputs": [],
   "source": [
    "# dropping columns with only invalid values\n",
    "mort_df = mort_df.dropna(axis = 1, how = 'all')"
   ]
  },
  {
   "cell_type": "code",
   "execution_count": 4,
   "id": "60f7a989",
   "metadata": {},
   "outputs": [
    {
     "data": {
      "text/plain": [
       "(14285496, 74)"
      ]
     },
     "execution_count": 4,
     "metadata": {},
     "output_type": "execute_result"
    }
   ],
   "source": [
    "mort_df.shape"
   ]
  },
  {
   "cell_type": "code",
   "execution_count": 5,
   "id": "d1a54696",
   "metadata": {},
   "outputs": [
    {
     "data": {
      "text/html": [
       "<div>\n",
       "<style scoped>\n",
       "    .dataframe tbody tr th:only-of-type {\n",
       "        vertical-align: middle;\n",
       "    }\n",
       "\n",
       "    .dataframe tbody tr th {\n",
       "        vertical-align: top;\n",
       "    }\n",
       "\n",
       "    .dataframe thead th {\n",
       "        text-align: right;\n",
       "    }\n",
       "</style>\n",
       "<table border=\"1\" class=\"dataframe\">\n",
       "  <thead>\n",
       "    <tr style=\"text-align: right;\">\n",
       "      <th></th>\n",
       "      <th>as_of_year</th>\n",
       "      <th>agency_code</th>\n",
       "      <th>loan_type</th>\n",
       "      <th>property_type</th>\n",
       "      <th>loan_purpose</th>\n",
       "      <th>owner_occupancy</th>\n",
       "      <th>loan_amount_000s</th>\n",
       "      <th>preapproval</th>\n",
       "      <th>action_taken</th>\n",
       "      <th>msamd</th>\n",
       "      <th>...</th>\n",
       "      <th>denial_reason_3</th>\n",
       "      <th>rate_spread</th>\n",
       "      <th>hoepa_status</th>\n",
       "      <th>lien_status</th>\n",
       "      <th>population</th>\n",
       "      <th>minority_population</th>\n",
       "      <th>hud_median_family_income</th>\n",
       "      <th>tract_to_msamd_income</th>\n",
       "      <th>number_of_owner_occupied_units</th>\n",
       "      <th>number_of_1_to_4_family_units</th>\n",
       "    </tr>\n",
       "  </thead>\n",
       "  <tbody>\n",
       "    <tr>\n",
       "      <th>count</th>\n",
       "      <td>14285496.0</td>\n",
       "      <td>1.428550e+07</td>\n",
       "      <td>1.428550e+07</td>\n",
       "      <td>1.428550e+07</td>\n",
       "      <td>1.428550e+07</td>\n",
       "      <td>1.428550e+07</td>\n",
       "      <td>1.428046e+07</td>\n",
       "      <td>1.428550e+07</td>\n",
       "      <td>1.428550e+07</td>\n",
       "      <td>1.249445e+07</td>\n",
       "      <td>...</td>\n",
       "      <td>49338.000000</td>\n",
       "      <td>493273.000000</td>\n",
       "      <td>1.428550e+07</td>\n",
       "      <td>1.428550e+07</td>\n",
       "      <td>1.400119e+07</td>\n",
       "      <td>1.400114e+07</td>\n",
       "      <td>1.400119e+07</td>\n",
       "      <td>1.400119e+07</td>\n",
       "      <td>1.400114e+07</td>\n",
       "      <td>1.400114e+07</td>\n",
       "    </tr>\n",
       "    <tr>\n",
       "      <th>mean</th>\n",
       "      <td>2017.0</td>\n",
       "      <td>6.809450e+00</td>\n",
       "      <td>1.439923e+00</td>\n",
       "      <td>1.044156e+00</td>\n",
       "      <td>1.845050e+00</td>\n",
       "      <td>1.102287e+00</td>\n",
       "      <td>2.480836e+02</td>\n",
       "      <td>2.796495e+00</td>\n",
       "      <td>2.627451e+00</td>\n",
       "      <td>3.045841e+04</td>\n",
       "      <td>...</td>\n",
       "      <td>5.053833</td>\n",
       "      <td>2.473063</td>\n",
       "      <td>1.999748e+00</td>\n",
       "      <td>1.522989e+00</td>\n",
       "      <td>5.720964e+03</td>\n",
       "      <td>3.273188e+01</td>\n",
       "      <td>7.083347e+04</td>\n",
       "      <td>1.130236e+02</td>\n",
       "      <td>1.465340e+03</td>\n",
       "      <td>2.004188e+03</td>\n",
       "    </tr>\n",
       "    <tr>\n",
       "      <th>std</th>\n",
       "      <td>0.0</td>\n",
       "      <td>2.122487e+00</td>\n",
       "      <td>7.467081e-01</td>\n",
       "      <td>2.224088e-01</td>\n",
       "      <td>9.484542e-01</td>\n",
       "      <td>3.172205e-01</td>\n",
       "      <td>1.481113e+03</td>\n",
       "      <td>4.790466e-01</td>\n",
       "      <td>1.931120e+00</td>\n",
       "      <td>1.132808e+04</td>\n",
       "      <td>...</td>\n",
       "      <td>2.680472</td>\n",
       "      <td>1.441981</td>\n",
       "      <td>1.587924e-02</td>\n",
       "      <td>1.087268e+00</td>\n",
       "      <td>3.170171e+03</td>\n",
       "      <td>2.618514e+01</td>\n",
       "      <td>1.494926e+04</td>\n",
       "      <td>4.088793e+01</td>\n",
       "      <td>8.862358e+02</td>\n",
       "      <td>1.099152e+03</td>\n",
       "    </tr>\n",
       "    <tr>\n",
       "      <th>min</th>\n",
       "      <td>2017.0</td>\n",
       "      <td>1.000000e+00</td>\n",
       "      <td>1.000000e+00</td>\n",
       "      <td>1.000000e+00</td>\n",
       "      <td>1.000000e+00</td>\n",
       "      <td>1.000000e+00</td>\n",
       "      <td>1.000000e+00</td>\n",
       "      <td>1.000000e+00</td>\n",
       "      <td>1.000000e+00</td>\n",
       "      <td>1.014000e+04</td>\n",
       "      <td>...</td>\n",
       "      <td>1.000000</td>\n",
       "      <td>1.500000</td>\n",
       "      <td>1.000000e+00</td>\n",
       "      <td>1.000000e+00</td>\n",
       "      <td>0.000000e+00</td>\n",
       "      <td>0.000000e+00</td>\n",
       "      <td>1.580000e+04</td>\n",
       "      <td>0.000000e+00</td>\n",
       "      <td>0.000000e+00</td>\n",
       "      <td>0.000000e+00</td>\n",
       "    </tr>\n",
       "    <tr>\n",
       "      <th>25%</th>\n",
       "      <td>2017.0</td>\n",
       "      <td>7.000000e+00</td>\n",
       "      <td>1.000000e+00</td>\n",
       "      <td>1.000000e+00</td>\n",
       "      <td>1.000000e+00</td>\n",
       "      <td>1.000000e+00</td>\n",
       "      <td>1.120000e+02</td>\n",
       "      <td>3.000000e+00</td>\n",
       "      <td>1.000000e+00</td>\n",
       "      <td>1.966000e+04</td>\n",
       "      <td>...</td>\n",
       "      <td>3.000000</td>\n",
       "      <td>1.660000</td>\n",
       "      <td>2.000000e+00</td>\n",
       "      <td>1.000000e+00</td>\n",
       "      <td>3.853000e+03</td>\n",
       "      <td>1.173000e+01</td>\n",
       "      <td>6.160000e+04</td>\n",
       "      <td>8.649000e+01</td>\n",
       "      <td>9.260000e+02</td>\n",
       "      <td>1.341000e+03</td>\n",
       "    </tr>\n",
       "    <tr>\n",
       "      <th>50%</th>\n",
       "      <td>2017.0</td>\n",
       "      <td>7.000000e+00</td>\n",
       "      <td>1.000000e+00</td>\n",
       "      <td>1.000000e+00</td>\n",
       "      <td>1.000000e+00</td>\n",
       "      <td>1.000000e+00</td>\n",
       "      <td>1.850000e+02</td>\n",
       "      <td>3.000000e+00</td>\n",
       "      <td>1.000000e+00</td>\n",
       "      <td>3.278000e+04</td>\n",
       "      <td>...</td>\n",
       "      <td>5.000000</td>\n",
       "      <td>1.900000</td>\n",
       "      <td>2.000000e+00</td>\n",
       "      <td>1.000000e+00</td>\n",
       "      <td>5.161000e+03</td>\n",
       "      <td>2.485000e+01</td>\n",
       "      <td>6.810000e+04</td>\n",
       "      <td>1.077000e+02</td>\n",
       "      <td>1.321000e+03</td>\n",
       "      <td>1.817000e+03</td>\n",
       "    </tr>\n",
       "    <tr>\n",
       "      <th>75%</th>\n",
       "      <td>2017.0</td>\n",
       "      <td>9.000000e+00</td>\n",
       "      <td>2.000000e+00</td>\n",
       "      <td>1.000000e+00</td>\n",
       "      <td>3.000000e+00</td>\n",
       "      <td>1.000000e+00</td>\n",
       "      <td>2.900000e+02</td>\n",
       "      <td>3.000000e+00</td>\n",
       "      <td>4.000000e+00</td>\n",
       "      <td>4.014000e+04</td>\n",
       "      <td>...</td>\n",
       "      <td>7.000000</td>\n",
       "      <td>2.490000</td>\n",
       "      <td>2.000000e+00</td>\n",
       "      <td>1.000000e+00</td>\n",
       "      <td>6.784000e+03</td>\n",
       "      <td>4.782000e+01</td>\n",
       "      <td>7.750000e+04</td>\n",
       "      <td>1.331300e+02</td>\n",
       "      <td>1.808000e+03</td>\n",
       "      <td>2.422000e+03</td>\n",
       "    </tr>\n",
       "    <tr>\n",
       "      <th>max</th>\n",
       "      <td>2017.0</td>\n",
       "      <td>9.000000e+00</td>\n",
       "      <td>4.000000e+00</td>\n",
       "      <td>3.000000e+00</td>\n",
       "      <td>3.000000e+00</td>\n",
       "      <td>3.000000e+00</td>\n",
       "      <td>3.400000e+06</td>\n",
       "      <td>3.000000e+00</td>\n",
       "      <td>8.000000e+00</td>\n",
       "      <td>4.978000e+04</td>\n",
       "      <td>...</td>\n",
       "      <td>9.000000</td>\n",
       "      <td>99.990000</td>\n",
       "      <td>2.000000e+00</td>\n",
       "      <td>4.000000e+00</td>\n",
       "      <td>5.381200e+04</td>\n",
       "      <td>1.000000e+02</td>\n",
       "      <td>1.315000e+05</td>\n",
       "      <td>5.074700e+02</td>\n",
       "      <td>1.952900e+04</td>\n",
       "      <td>2.539100e+04</td>\n",
       "    </tr>\n",
       "  </tbody>\n",
       "</table>\n",
       "<p>8 rows × 41 columns</p>\n",
       "</div>"
      ],
      "text/plain": [
       "       as_of_year   agency_code     loan_type  property_type  loan_purpose  \\\n",
       "count  14285496.0  1.428550e+07  1.428550e+07   1.428550e+07  1.428550e+07   \n",
       "mean       2017.0  6.809450e+00  1.439923e+00   1.044156e+00  1.845050e+00   \n",
       "std           0.0  2.122487e+00  7.467081e-01   2.224088e-01  9.484542e-01   \n",
       "min        2017.0  1.000000e+00  1.000000e+00   1.000000e+00  1.000000e+00   \n",
       "25%        2017.0  7.000000e+00  1.000000e+00   1.000000e+00  1.000000e+00   \n",
       "50%        2017.0  7.000000e+00  1.000000e+00   1.000000e+00  1.000000e+00   \n",
       "75%        2017.0  9.000000e+00  2.000000e+00   1.000000e+00  3.000000e+00   \n",
       "max        2017.0  9.000000e+00  4.000000e+00   3.000000e+00  3.000000e+00   \n",
       "\n",
       "       owner_occupancy  loan_amount_000s   preapproval  action_taken  \\\n",
       "count     1.428550e+07      1.428046e+07  1.428550e+07  1.428550e+07   \n",
       "mean      1.102287e+00      2.480836e+02  2.796495e+00  2.627451e+00   \n",
       "std       3.172205e-01      1.481113e+03  4.790466e-01  1.931120e+00   \n",
       "min       1.000000e+00      1.000000e+00  1.000000e+00  1.000000e+00   \n",
       "25%       1.000000e+00      1.120000e+02  3.000000e+00  1.000000e+00   \n",
       "50%       1.000000e+00      1.850000e+02  3.000000e+00  1.000000e+00   \n",
       "75%       1.000000e+00      2.900000e+02  3.000000e+00  4.000000e+00   \n",
       "max       3.000000e+00      3.400000e+06  3.000000e+00  8.000000e+00   \n",
       "\n",
       "              msamd  ...  denial_reason_3    rate_spread  hoepa_status  \\\n",
       "count  1.249445e+07  ...     49338.000000  493273.000000  1.428550e+07   \n",
       "mean   3.045841e+04  ...         5.053833       2.473063  1.999748e+00   \n",
       "std    1.132808e+04  ...         2.680472       1.441981  1.587924e-02   \n",
       "min    1.014000e+04  ...         1.000000       1.500000  1.000000e+00   \n",
       "25%    1.966000e+04  ...         3.000000       1.660000  2.000000e+00   \n",
       "50%    3.278000e+04  ...         5.000000       1.900000  2.000000e+00   \n",
       "75%    4.014000e+04  ...         7.000000       2.490000  2.000000e+00   \n",
       "max    4.978000e+04  ...         9.000000      99.990000  2.000000e+00   \n",
       "\n",
       "        lien_status    population  minority_population  \\\n",
       "count  1.428550e+07  1.400119e+07         1.400114e+07   \n",
       "mean   1.522989e+00  5.720964e+03         3.273188e+01   \n",
       "std    1.087268e+00  3.170171e+03         2.618514e+01   \n",
       "min    1.000000e+00  0.000000e+00         0.000000e+00   \n",
       "25%    1.000000e+00  3.853000e+03         1.173000e+01   \n",
       "50%    1.000000e+00  5.161000e+03         2.485000e+01   \n",
       "75%    1.000000e+00  6.784000e+03         4.782000e+01   \n",
       "max    4.000000e+00  5.381200e+04         1.000000e+02   \n",
       "\n",
       "       hud_median_family_income  tract_to_msamd_income  \\\n",
       "count              1.400119e+07           1.400119e+07   \n",
       "mean               7.083347e+04           1.130236e+02   \n",
       "std                1.494926e+04           4.088793e+01   \n",
       "min                1.580000e+04           0.000000e+00   \n",
       "25%                6.160000e+04           8.649000e+01   \n",
       "50%                6.810000e+04           1.077000e+02   \n",
       "75%                7.750000e+04           1.331300e+02   \n",
       "max                1.315000e+05           5.074700e+02   \n",
       "\n",
       "       number_of_owner_occupied_units  number_of_1_to_4_family_units  \n",
       "count                    1.400114e+07                   1.400114e+07  \n",
       "mean                     1.465340e+03                   2.004188e+03  \n",
       "std                      8.862358e+02                   1.099152e+03  \n",
       "min                      0.000000e+00                   0.000000e+00  \n",
       "25%                      9.260000e+02                   1.341000e+03  \n",
       "50%                      1.321000e+03                   1.817000e+03  \n",
       "75%                      1.808000e+03                   2.422000e+03  \n",
       "max                      1.952900e+04                   2.539100e+04  \n",
       "\n",
       "[8 rows x 41 columns]"
      ]
     },
     "execution_count": 5,
     "metadata": {},
     "output_type": "execute_result"
    }
   ],
   "source": [
    "mort_df.describe()"
   ]
  },
  {
   "cell_type": "code",
   "execution_count": 6,
   "id": "998a5355",
   "metadata": {},
   "outputs": [],
   "source": [
    "# Removing instances of incomplete/withdrawn and preapproval only applications\n",
    "inval_obs = [i for i, j in mort_df['action_taken'].items() if j not in [4, 5, 7, 8]]\n",
    "prim_df = mort_df.iloc[inval_obs]\n",
    "\n",
    "# Limit to only conventional loans for home purchases\n",
    "prim_df = prim_df[(prim_df['loan_purpose'] == 1) & (prim_df['loan_type'] == 1)]\n",
    "\n",
    "# Limit demographic data scope to only primary applicants; dropping unnecessary columns\n",
    "prim_df = prim_df[['respondent_id', 'action_taken_name', 'action_taken', 'state_name', \n",
    "                   'state_abbr', 'applicant_ethnicity_name', 'applicant_ethnicity', \n",
    "                   'applicant_race_name_1', 'applicant_race_1', 'applicant_race_name_2', \n",
    "                   'applicant_race_2', 'applicant_sex_name', 'applicant_sex', \n",
    "                   'applicant_income_000s']]"
   ]
  },
  {
   "cell_type": "markdown",
   "id": "c7b92a84",
   "metadata": {},
   "source": [
    "### EDA"
   ]
  },
  {
   "cell_type": "code",
   "execution_count": 7,
   "id": "35c95800",
   "metadata": {},
   "outputs": [
    {
     "data": {
      "text/plain": [
       "Text(0.5, 1.0, 'Proportion of Actions Taken')"
      ]
     },
     "execution_count": 7,
     "metadata": {},
     "output_type": "execute_result"
    },
    {
     "data": {
      "image/png": "[encoded data removed]",
      "text/plain": [
       "<Figure size 640x480 with 1 Axes>"
      ]
     },
     "metadata": {},
     "output_type": "display_data"
    }
   ],
   "source": [
    "# Action Taken\n",
    "action_prop = prim_df['action_taken_name'].value_counts(normalize = True)\n",
    "\n",
    "plt.barh(action_prop.index, action_prop)\n",
    "plt.title('Proportion of Actions Taken')"
   ]
  },
  {
   "cell_type": "code",
   "execution_count": 8,
   "id": "c8632fb0",
   "metadata": {},
   "outputs": [
    {
     "data": {
      "text/plain": [
       "Text(0.5, 1.0, 'Proportion of Race')"
      ]
     },
     "execution_count": 8,
     "metadata": {},
     "output_type": "execute_result"
    },
    {
     "data": {
      "image/png": "[encoded data removed]",
      "text/plain": [
       "<Figure size 640x480 with 1 Axes>"
      ]
     },
     "metadata": {},
     "output_type": "display_data"
    }
   ],
   "source": [
    "# Proportion of Race\n",
    "race_prop = prim_df['applicant_race_name_1'].value_counts(normalize = True)\n",
    "\n",
    "plt.barh(race_prop.index, race_prop)\n",
    "plt.title('Proportion of Race')"
   ]
  },
  {
   "cell_type": "code",
   "execution_count": 9,
   "id": "18642333",
   "metadata": {},
   "outputs": [
    {
     "data": {
      "text/plain": [
       "Text(0.5, 1.0, 'Proportion of Sex')"
      ]
     },
     "execution_count": 9,
     "metadata": {},
     "output_type": "execute_result"
    },
    {
     "data": {
      "image/png": "[encoded data removed]",
      "text/plain": [
       "<Figure size 640x480 with 1 Axes>"
      ]
     },
     "metadata": {},
     "output_type": "display_data"
    }
   ],
   "source": [
    "# Proportion of Sex\n",
    "sex_prop = prim_df['applicant_sex_name'].value_counts(normalize = True)\n",
    "\n",
    "plt.barh(sex_prop.index, sex_prop)\n",
    "plt.title('Proportion of Sex')"
   ]
  },
  {
   "cell_type": "markdown",
   "id": "8a19289c",
   "metadata": {},
   "source": [
    "### Model Building"
   ]
  },
  {
   "cell_type": "code",
   "execution_count": null,
   "id": "8b7f8880",
   "metadata": {},
   "outputs": [],
   "source": []
  }
 ],
 "metadata": {
  "kernelspec": {
   "display_name": "Python 3 (ipykernel)",
   "language": "python",
   "name": "python3"
  },
  "language_info": {
   "codemirror_mode": {
    "name": "ipython",
    "version": 3
   },
   "file_extension": ".py",
   "mimetype": "text/x-python",
   "name": "python",
   "nbconvert_exporter": "python",
   "pygments_lexer": "ipython3",
   "version": "3.11.5"
  }
 },
 "nbformat": 4,
 "nbformat_minor": 5
}
