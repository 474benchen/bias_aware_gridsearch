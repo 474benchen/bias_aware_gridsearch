{
 "cells": [
  {
   "cell_type": "code",
   "execution_count": 113,
   "id": "402fefa0",
   "metadata": {},
   "outputs": [],
   "source": [
    "# import basic packages\n",
    "import pandas as pd\n",
    "import seaborn as sns\n",
    "import numpy as np\n",
    "import os\n",
    "import yaml\n",
    "import joblib\n",
    "import matplotlib.pyplot as plt\n",
    "\n",
    "# import models\n",
    "from sklearn.ensemble import RandomForestClassifier\n",
    "from sklearn.model_selection import GridSearchCV\n",
    "\n",
    "# import train test\n",
    "from sklearn.model_selection import train_test_split\n",
    "\n",
    "from util import calculate_disparate_impact, calculate_statistical_parity_difference\n",
    "from bias_aware_gridsearch import BiasAwareGridSearchCV"
   ]
  },
  {
   "cell_type": "markdown",
   "id": "97a83dd5",
   "metadata": {},
   "source": [
    "### Prediction Task: Will an applicant be approved for a home purchase conventional mortgage?"
   ]
  },
  {
   "cell_type": "markdown",
   "id": "8ae30e94",
   "metadata": {},
   "source": [
    "### Data Processing"
   ]
  },
  {
   "cell_type": "code",
   "execution_count": 2,
   "id": "2a21477a",
   "metadata": {},
   "outputs": [
    {
     "name": "stderr",
     "output_type": "stream",
     "text": [
      "/var/folders/gp/89jvsfhd6zn10r7krkzw4l7w0000gn/T/ipykernel_4490/2354709147.py:2: DtypeWarning: Columns (34,36,38,44,46,48) have mixed types. Specify dtype option on import or set low_memory=False.\n",
      "  mort_df = pd.read_csv('hmda_2017_nationwide_all-records_labels.csv')\n"
     ]
    }
   ],
   "source": [
    "# read in all mortgage data from 2017\n",
    "mort_df = pd.read_csv('hmda_2017_nationwide_all-records_labels.csv')"
   ]
  },
  {
   "cell_type": "code",
   "execution_count": 3,
   "id": "7677310d",
   "metadata": {},
   "outputs": [],
   "source": [
    "# dropping columns with only invalid values\n",
    "mort_df = mort_df.dropna(axis = 1, how = 'all')"
   ]
  },
  {
   "cell_type": "code",
   "execution_count": 4,
   "id": "60f7a989",
   "metadata": {},
   "outputs": [
    {
     "data": {
      "text/plain": [
       "(14285496, 74)"
      ]
     },
     "execution_count": 4,
     "metadata": {},
     "output_type": "execute_result"
    }
   ],
   "source": [
    "mort_df.shape"
   ]
  },
  {
   "cell_type": "code",
   "execution_count": 5,
   "id": "d1a54696",
   "metadata": {},
   "outputs": [
    {
     "data": {
      "text/html": [
       "<div>\n",
       "<style scoped>\n",
       "    .dataframe tbody tr th:only-of-type {\n",
       "        vertical-align: middle;\n",
       "    }\n",
       "\n",
       "    .dataframe tbody tr th {\n",
       "        vertical-align: top;\n",
       "    }\n",
       "\n",
       "    .dataframe thead th {\n",
       "        text-align: right;\n",
       "    }\n",
       "</style>\n",
       "<table border=\"1\" class=\"dataframe\">\n",
       "  <thead>\n",
       "    <tr style=\"text-align: right;\">\n",
       "      <th></th>\n",
       "      <th>as_of_year</th>\n",
       "      <th>agency_code</th>\n",
       "      <th>loan_type</th>\n",
       "      <th>property_type</th>\n",
       "      <th>loan_purpose</th>\n",
       "      <th>owner_occupancy</th>\n",
       "      <th>loan_amount_000s</th>\n",
       "      <th>preapproval</th>\n",
       "      <th>action_taken</th>\n",
       "      <th>msamd</th>\n",
       "      <th>...</th>\n",
       "      <th>denial_reason_3</th>\n",
       "      <th>rate_spread</th>\n",
       "      <th>hoepa_status</th>\n",
       "      <th>lien_status</th>\n",
       "      <th>population</th>\n",
       "      <th>minority_population</th>\n",
       "      <th>hud_median_family_income</th>\n",
       "      <th>tract_to_msamd_income</th>\n",
       "      <th>number_of_owner_occupied_units</th>\n",
       "      <th>number_of_1_to_4_family_units</th>\n",
       "    </tr>\n",
       "  </thead>\n",
       "  <tbody>\n",
       "    <tr>\n",
       "      <th>count</th>\n",
       "      <td>14285496.0</td>\n",
       "      <td>1.428550e+07</td>\n",
       "      <td>1.428550e+07</td>\n",
       "      <td>1.428550e+07</td>\n",
       "      <td>1.428550e+07</td>\n",
       "      <td>1.428550e+07</td>\n",
       "      <td>1.428046e+07</td>\n",
       "      <td>1.428550e+07</td>\n",
       "      <td>1.428550e+07</td>\n",
       "      <td>1.249445e+07</td>\n",
       "      <td>...</td>\n",
       "      <td>49338.000000</td>\n",
       "      <td>493273.000000</td>\n",
       "      <td>1.428550e+07</td>\n",
       "      <td>1.428550e+07</td>\n",
       "      <td>1.400119e+07</td>\n",
       "      <td>1.400114e+07</td>\n",
       "      <td>1.400119e+07</td>\n",
       "      <td>1.400119e+07</td>\n",
       "      <td>1.400114e+07</td>\n",
       "      <td>1.400114e+07</td>\n",
       "    </tr>\n",
       "    <tr>\n",
       "      <th>mean</th>\n",
       "      <td>2017.0</td>\n",
       "      <td>6.809450e+00</td>\n",
       "      <td>1.439923e+00</td>\n",
       "      <td>1.044156e+00</td>\n",
       "      <td>1.845050e+00</td>\n",
       "      <td>1.102287e+00</td>\n",
       "      <td>2.480836e+02</td>\n",
       "      <td>2.796495e+00</td>\n",
       "      <td>2.627451e+00</td>\n",
       "      <td>3.045841e+04</td>\n",
       "      <td>...</td>\n",
       "      <td>5.053833</td>\n",
       "      <td>2.473063</td>\n",
       "      <td>1.999748e+00</td>\n",
       "      <td>1.522989e+00</td>\n",
       "      <td>5.720964e+03</td>\n",
       "      <td>3.273188e+01</td>\n",
       "      <td>7.083347e+04</td>\n",
       "      <td>1.130236e+02</td>\n",
       "      <td>1.465340e+03</td>\n",
       "      <td>2.004188e+03</td>\n",
       "    </tr>\n",
       "    <tr>\n",
       "      <th>std</th>\n",
       "      <td>0.0</td>\n",
       "      <td>2.122487e+00</td>\n",
       "      <td>7.467081e-01</td>\n",
       "      <td>2.224088e-01</td>\n",
       "      <td>9.484542e-01</td>\n",
       "      <td>3.172205e-01</td>\n",
       "      <td>1.481113e+03</td>\n",
       "      <td>4.790466e-01</td>\n",
       "      <td>1.931120e+00</td>\n",
       "      <td>1.132808e+04</td>\n",
       "      <td>...</td>\n",
       "      <td>2.680472</td>\n",
       "      <td>1.441981</td>\n",
       "      <td>1.587924e-02</td>\n",
       "      <td>1.087268e+00</td>\n",
       "      <td>3.170171e+03</td>\n",
       "      <td>2.618514e+01</td>\n",
       "      <td>1.494926e+04</td>\n",
       "      <td>4.088793e+01</td>\n",
       "      <td>8.862358e+02</td>\n",
       "      <td>1.099152e+03</td>\n",
       "    </tr>\n",
       "    <tr>\n",
       "      <th>min</th>\n",
       "      <td>2017.0</td>\n",
       "      <td>1.000000e+00</td>\n",
       "      <td>1.000000e+00</td>\n",
       "      <td>1.000000e+00</td>\n",
       "      <td>1.000000e+00</td>\n",
       "      <td>1.000000e+00</td>\n",
       "      <td>1.000000e+00</td>\n",
       "      <td>1.000000e+00</td>\n",
       "      <td>1.000000e+00</td>\n",
       "      <td>1.014000e+04</td>\n",
       "      <td>...</td>\n",
       "      <td>1.000000</td>\n",
       "      <td>1.500000</td>\n",
       "      <td>1.000000e+00</td>\n",
       "      <td>1.000000e+00</td>\n",
       "      <td>0.000000e+00</td>\n",
       "      <td>0.000000e+00</td>\n",
       "      <td>1.580000e+04</td>\n",
       "      <td>0.000000e+00</td>\n",
       "      <td>0.000000e+00</td>\n",
       "      <td>0.000000e+00</td>\n",
       "    </tr>\n",
       "    <tr>\n",
       "      <th>25%</th>\n",
       "      <td>2017.0</td>\n",
       "      <td>7.000000e+00</td>\n",
       "      <td>1.000000e+00</td>\n",
       "      <td>1.000000e+00</td>\n",
       "      <td>1.000000e+00</td>\n",
       "      <td>1.000000e+00</td>\n",
       "      <td>1.120000e+02</td>\n",
       "      <td>3.000000e+00</td>\n",
       "      <td>1.000000e+00</td>\n",
       "      <td>1.966000e+04</td>\n",
       "      <td>...</td>\n",
       "      <td>3.000000</td>\n",
       "      <td>1.660000</td>\n",
       "      <td>2.000000e+00</td>\n",
       "      <td>1.000000e+00</td>\n",
       "      <td>3.853000e+03</td>\n",
       "      <td>1.173000e+01</td>\n",
       "      <td>6.160000e+04</td>\n",
       "      <td>8.649000e+01</td>\n",
       "      <td>9.260000e+02</td>\n",
       "      <td>1.341000e+03</td>\n",
       "    </tr>\n",
       "    <tr>\n",
       "      <th>50%</th>\n",
       "      <td>2017.0</td>\n",
       "      <td>7.000000e+00</td>\n",
       "      <td>1.000000e+00</td>\n",
       "      <td>1.000000e+00</td>\n",
       "      <td>1.000000e+00</td>\n",
       "      <td>1.000000e+00</td>\n",
       "      <td>1.850000e+02</td>\n",
       "      <td>3.000000e+00</td>\n",
       "      <td>1.000000e+00</td>\n",
       "      <td>3.278000e+04</td>\n",
       "      <td>...</td>\n",
       "      <td>5.000000</td>\n",
       "      <td>1.900000</td>\n",
       "      <td>2.000000e+00</td>\n",
       "      <td>1.000000e+00</td>\n",
       "      <td>5.161000e+03</td>\n",
       "      <td>2.485000e+01</td>\n",
       "      <td>6.810000e+04</td>\n",
       "      <td>1.077000e+02</td>\n",
       "      <td>1.321000e+03</td>\n",
       "      <td>1.817000e+03</td>\n",
       "    </tr>\n",
       "    <tr>\n",
       "      <th>75%</th>\n",
       "      <td>2017.0</td>\n",
       "      <td>9.000000e+00</td>\n",
       "      <td>2.000000e+00</td>\n",
       "      <td>1.000000e+00</td>\n",
       "      <td>3.000000e+00</td>\n",
       "      <td>1.000000e+00</td>\n",
       "      <td>2.900000e+02</td>\n",
       "      <td>3.000000e+00</td>\n",
       "      <td>4.000000e+00</td>\n",
       "      <td>4.014000e+04</td>\n",
       "      <td>...</td>\n",
       "      <td>7.000000</td>\n",
       "      <td>2.490000</td>\n",
       "      <td>2.000000e+00</td>\n",
       "      <td>1.000000e+00</td>\n",
       "      <td>6.784000e+03</td>\n",
       "      <td>4.782000e+01</td>\n",
       "      <td>7.750000e+04</td>\n",
       "      <td>1.331300e+02</td>\n",
       "      <td>1.808000e+03</td>\n",
       "      <td>2.422000e+03</td>\n",
       "    </tr>\n",
       "    <tr>\n",
       "      <th>max</th>\n",
       "      <td>2017.0</td>\n",
       "      <td>9.000000e+00</td>\n",
       "      <td>4.000000e+00</td>\n",
       "      <td>3.000000e+00</td>\n",
       "      <td>3.000000e+00</td>\n",
       "      <td>3.000000e+00</td>\n",
       "      <td>3.400000e+06</td>\n",
       "      <td>3.000000e+00</td>\n",
       "      <td>8.000000e+00</td>\n",
       "      <td>4.978000e+04</td>\n",
       "      <td>...</td>\n",
       "      <td>9.000000</td>\n",
       "      <td>99.990000</td>\n",
       "      <td>2.000000e+00</td>\n",
       "      <td>4.000000e+00</td>\n",
       "      <td>5.381200e+04</td>\n",
       "      <td>1.000000e+02</td>\n",
       "      <td>1.315000e+05</td>\n",
       "      <td>5.074700e+02</td>\n",
       "      <td>1.952900e+04</td>\n",
       "      <td>2.539100e+04</td>\n",
       "    </tr>\n",
       "  </tbody>\n",
       "</table>\n",
       "<p>8 rows × 41 columns</p>\n",
       "</div>"
      ],
      "text/plain": [
       "       as_of_year   agency_code     loan_type  property_type  loan_purpose  \\\n",
       "count  14285496.0  1.428550e+07  1.428550e+07   1.428550e+07  1.428550e+07   \n",
       "mean       2017.0  6.809450e+00  1.439923e+00   1.044156e+00  1.845050e+00   \n",
       "std           0.0  2.122487e+00  7.467081e-01   2.224088e-01  9.484542e-01   \n",
       "min        2017.0  1.000000e+00  1.000000e+00   1.000000e+00  1.000000e+00   \n",
       "25%        2017.0  7.000000e+00  1.000000e+00   1.000000e+00  1.000000e+00   \n",
       "50%        2017.0  7.000000e+00  1.000000e+00   1.000000e+00  1.000000e+00   \n",
       "75%        2017.0  9.000000e+00  2.000000e+00   1.000000e+00  3.000000e+00   \n",
       "max        2017.0  9.000000e+00  4.000000e+00   3.000000e+00  3.000000e+00   \n",
       "\n",
       "       owner_occupancy  loan_amount_000s   preapproval  action_taken  \\\n",
       "count     1.428550e+07      1.428046e+07  1.428550e+07  1.428550e+07   \n",
       "mean      1.102287e+00      2.480836e+02  2.796495e+00  2.627451e+00   \n",
       "std       3.172205e-01      1.481113e+03  4.790466e-01  1.931120e+00   \n",
       "min       1.000000e+00      1.000000e+00  1.000000e+00  1.000000e+00   \n",
       "25%       1.000000e+00      1.120000e+02  3.000000e+00  1.000000e+00   \n",
       "50%       1.000000e+00      1.850000e+02  3.000000e+00  1.000000e+00   \n",
       "75%       1.000000e+00      2.900000e+02  3.000000e+00  4.000000e+00   \n",
       "max       3.000000e+00      3.400000e+06  3.000000e+00  8.000000e+00   \n",
       "\n",
       "              msamd  ...  denial_reason_3    rate_spread  hoepa_status  \\\n",
       "count  1.249445e+07  ...     49338.000000  493273.000000  1.428550e+07   \n",
       "mean   3.045841e+04  ...         5.053833       2.473063  1.999748e+00   \n",
       "std    1.132808e+04  ...         2.680472       1.441981  1.587924e-02   \n",
       "min    1.014000e+04  ...         1.000000       1.500000  1.000000e+00   \n",
       "25%    1.966000e+04  ...         3.000000       1.660000  2.000000e+00   \n",
       "50%    3.278000e+04  ...         5.000000       1.900000  2.000000e+00   \n",
       "75%    4.014000e+04  ...         7.000000       2.490000  2.000000e+00   \n",
       "max    4.978000e+04  ...         9.000000      99.990000  2.000000e+00   \n",
       "\n",
       "        lien_status    population  minority_population  \\\n",
       "count  1.428550e+07  1.400119e+07         1.400114e+07   \n",
       "mean   1.522989e+00  5.720964e+03         3.273188e+01   \n",
       "std    1.087268e+00  3.170171e+03         2.618514e+01   \n",
       "min    1.000000e+00  0.000000e+00         0.000000e+00   \n",
       "25%    1.000000e+00  3.853000e+03         1.173000e+01   \n",
       "50%    1.000000e+00  5.161000e+03         2.485000e+01   \n",
       "75%    1.000000e+00  6.784000e+03         4.782000e+01   \n",
       "max    4.000000e+00  5.381200e+04         1.000000e+02   \n",
       "\n",
       "       hud_median_family_income  tract_to_msamd_income  \\\n",
       "count              1.400119e+07           1.400119e+07   \n",
       "mean               7.083347e+04           1.130236e+02   \n",
       "std                1.494926e+04           4.088793e+01   \n",
       "min                1.580000e+04           0.000000e+00   \n",
       "25%                6.160000e+04           8.649000e+01   \n",
       "50%                6.810000e+04           1.077000e+02   \n",
       "75%                7.750000e+04           1.331300e+02   \n",
       "max                1.315000e+05           5.074700e+02   \n",
       "\n",
       "       number_of_owner_occupied_units  number_of_1_to_4_family_units  \n",
       "count                    1.400114e+07                   1.400114e+07  \n",
       "mean                     1.465340e+03                   2.004188e+03  \n",
       "std                      8.862358e+02                   1.099152e+03  \n",
       "min                      0.000000e+00                   0.000000e+00  \n",
       "25%                      9.260000e+02                   1.341000e+03  \n",
       "50%                      1.321000e+03                   1.817000e+03  \n",
       "75%                      1.808000e+03                   2.422000e+03  \n",
       "max                      1.952900e+04                   2.539100e+04  \n",
       "\n",
       "[8 rows x 41 columns]"
      ]
     },
     "execution_count": 5,
     "metadata": {},
     "output_type": "execute_result"
    }
   ],
   "source": [
    "mort_df.describe()"
   ]
  },
  {
   "cell_type": "code",
   "execution_count": 147,
   "id": "998a5355",
   "metadata": {},
   "outputs": [],
   "source": [
    "# Removing instances of incomplete/withdrawn and preapproval only applications\n",
    "inval_obs = [i for i, j in mort_df['action_taken'].items() if j in [1, 3]]\n",
    "prim_df = mort_df.iloc[inval_obs]\n",
    "\n",
    "# Limit to only conventional loans for home purchases in California\n",
    "prim_df = prim_df[(prim_df['loan_purpose'] == 1) & \n",
    "                  (prim_df['loan_type'] == 1) & \n",
    "                  (prim_df['state_abbr'] == 'CA')]\n",
    "\n",
    "# Limit demographic data scope to only primary applicants; dropping unnecessary columns\n",
    "prim_df = prim_df[['action_taken_name', 'action_taken', 'state_name', \n",
    "                   'state_abbr', 'applicant_ethnicity_name', 'applicant_ethnicity', \n",
    "                   'applicant_race_name_1', 'applicant_race_1', 'applicant_race_name_2', \n",
    "                   'applicant_race_2', 'applicant_sex_name', 'applicant_sex', \n",
    "                   'applicant_income_000s']]"
   ]
  },
  {
   "cell_type": "code",
   "execution_count": 149,
   "id": "01543644",
   "metadata": {},
   "outputs": [],
   "source": [
    "# Filling invalid values\n",
    "prim_df = prim_df.reset_index(drop= True)\n",
    "\n",
    "prim_df = prim_df.replace('Information not provided by applicant in mail, Internet, or telephone application', \n",
    "                          'Not applicable')\n",
    "prim_df = prim_df.fillna(0)"
   ]
  },
  {
   "cell_type": "code",
   "execution_count": 154,
   "id": "b8f37533",
   "metadata": {},
   "outputs": [
    {
     "data": {
      "text/plain": [
       "(331391, 13)"
      ]
     },
     "execution_count": 154,
     "metadata": {},
     "output_type": "execute_result"
    }
   ],
   "source": [
    "prim_df.shape"
   ]
  },
  {
   "cell_type": "markdown",
   "id": "c7b92a84",
   "metadata": {},
   "source": [
    "### EDA"
   ]
  },
  {
   "cell_type": "code",
   "execution_count": 230,
   "id": "35c95800",
   "metadata": {},
   "outputs": [
    {
     "data": {
      "text/plain": [
       "Text(0.5, 1.0, 'Counts of Actions Taken')"
      ]
     },
     "execution_count": 230,
     "metadata": {},
     "output_type": "execute_result"
    },
    {
     "data": {
      "image/png": "[encoded data removed]",
      "text/plain": [
       "<Figure size 640x480 with 1 Axes>"
      ]
     },
     "metadata": {},
     "output_type": "display_data"
    }
   ],
   "source": [
    "# Action Taken\n",
    "actions = prim_df['action_taken_name'].value_counts()\n",
    "\n",
    "plt.bar(actions.index, actions, color=['green', 'red'])\n",
    "plt.title('Counts of Actions Taken')"
   ]
  },
  {
   "cell_type": "markdown",
   "id": "a7f591c0",
   "metadata": {},
   "source": [
    "The chart above depicts the counts of the result of each application, either denial or loan origination. As is shown, this dataset is unbalanced. The negative class, application denial, makes up only 12% of the distribution. For the purposes of this analysis, no further preprocessing will be done to adress this. This will be revisted should the project call for it. "
   ]
  },
  {
   "cell_type": "code",
   "execution_count": 231,
   "id": "18642333",
   "metadata": {},
   "outputs": [
    {
     "data": {
      "text/plain": [
       "Text(0.5, 1.0, 'Gender')"
      ]
     },
     "execution_count": 231,
     "metadata": {},
     "output_type": "execute_result"
    },
    {
     "data": {
      "image/png": "[encoded data removed]",
      "text/plain": [
       "<Figure size 640x480 with 1 Axes>"
      ]
     },
     "metadata": {},
     "output_type": "display_data"
    }
   ],
   "source": [
    "# Sex\n",
    "gender = prim_df['applicant_sex_name'].value_counts()\n",
    "\n",
    "plt.bar(gender.index, gender, color=['blue', 'purple', 'gray'])\n",
    "plt.title('Gender')"
   ]
  },
  {
   "cell_type": "markdown",
   "id": "86152d1a",
   "metadata": {},
   "source": [
    "The above chart shows that males make up a majority of primary applicants (~64%). For this project, sex will be analyzed as the protected attribute. The later models will outline whether or not there is bias between sex when it comes to loan origination."
   ]
  },
  {
   "cell_type": "code",
   "execution_count": 232,
   "id": "ca9e1124",
   "metadata": {},
   "outputs": [
    {
     "data": {
      "text/plain": [
       "array(['Asian', 'Not applicable', 'White', 'Black or African American',\n",
       "       'American Indian or Alaska Native',\n",
       "       'Native Hawaiian or Other Pacific Islander'], dtype=object)"
      ]
     },
     "execution_count": 232,
     "metadata": {},
     "output_type": "execute_result"
    }
   ],
   "source": [
    "prim_df['applicant_race_name_1'].unique()"
   ]
  },
  {
   "cell_type": "code",
   "execution_count": 237,
   "id": "c8632fb0",
   "metadata": {},
   "outputs": [
    {
     "data": {
      "text/plain": [
       "Text(0.5, 1.0, 'Race')"
      ]
     },
     "execution_count": 237,
     "metadata": {},
     "output_type": "execute_result"
    },
    {
     "data": {
      "image/png": "[encoded data removed]",
      "text/plain": [
       "<Figure size 640x480 with 1 Axes>"
      ]
     },
     "metadata": {},
     "output_type": "display_data"
    }
   ],
   "source": [
    "# Race\n",
    "race = prim_df['applicant_race_name_1'].value_counts()\n",
    "\n",
    "plt.barh(race.index, race)\n",
    "plt.title('Race')"
   ]
  },
  {
   "cell_type": "markdown",
   "id": "7dc1b0ab",
   "metadata": {},
   "source": [
    "Of the race of the primary applicants, White is the most common, making up about 60% of the dataset. It is to be noted that many under this racial group identify as hispanic/latino, which could potentially play a factor in the bias results. The next largest racial group is Asian, which makes up about 21% of the distribution."
   ]
  },
  {
   "cell_type": "code",
   "execution_count": 239,
   "id": "c8fd3e07",
   "metadata": {},
   "outputs": [
    {
     "data": {
      "text/plain": [
       "<matplotlib.legend.Legend at 0x3332afc10>"
      ]
     },
     "execution_count": 239,
     "metadata": {},
     "output_type": "execute_result"
    },
    {
     "data": {
      "image/png": "[encoded data removed]",
      "text/plain": [
       "<Figure size 1400x500 with 2 Axes>"
      ]
     },
     "metadata": {},
     "output_type": "display_data"
    }
   ],
   "source": [
    "action_by_race = prim_df.groupby(['action_taken_name', 'applicant_race_name_1'])['action_taken'].count()\n",
    "action_by_eth = prim_df.groupby(['action_taken_name', 'applicant_ethnicity_name'])['action_taken'].count()\n",
    "\n",
    "fig, (ax1, ax2) = plt.subplots(1, 2, figsize=(14, 5))\n",
    "\n",
    "action_by_race.unstack().plot(kind='bar', stacked=True, ax=ax1)\n",
    "ax1.legend(fontsize = 'small')\n",
    "\n",
    "action_by_eth.unstack().plot(kind='bar', stacked=True, ax=ax2)\n",
    "ax2.legend(fontsize = 'medium')"
   ]
  },
  {
   "cell_type": "markdown",
   "id": "bcd82f6c",
   "metadata": {},
   "source": [
    "The charts above show the racial and ethnic distributions of the actions taken, denial or loan origination. White, non- Hispanic or Latino applicants are the majority class in this dataset, making up about 45% of the dataset."
   ]
  },
  {
   "cell_type": "code",
   "execution_count": 222,
   "id": "03a2bd23",
   "metadata": {},
   "outputs": [],
   "source": [
    "race_props = (action_by_race / actions).unstack()\n",
    "eth_props = (action_by_eth / actions).unstack()"
   ]
  },
  {
   "cell_type": "code",
   "execution_count": 225,
   "id": "9a463476",
   "metadata": {},
   "outputs": [
    {
     "data": {
      "text/html": [
       "<div>\n",
       "<style scoped>\n",
       "    .dataframe tbody tr th:only-of-type {\n",
       "        vertical-align: middle;\n",
       "    }\n",
       "\n",
       "    .dataframe tbody tr th {\n",
       "        vertical-align: top;\n",
       "    }\n",
       "\n",
       "    .dataframe thead th {\n",
       "        text-align: right;\n",
       "    }\n",
       "</style>\n",
       "<table border=\"1\" class=\"dataframe\">\n",
       "  <thead>\n",
       "    <tr style=\"text-align: right;\">\n",
       "      <th>applicant_race_name_1</th>\n",
       "      <th>American Indian or Alaska Native</th>\n",
       "      <th>Asian</th>\n",
       "      <th>Black or African American</th>\n",
       "      <th>Native Hawaiian or Other Pacific Islander</th>\n",
       "      <th>Not applicable</th>\n",
       "      <th>White</th>\n",
       "    </tr>\n",
       "    <tr>\n",
       "      <th>action_taken_name</th>\n",
       "      <th></th>\n",
       "      <th></th>\n",
       "      <th></th>\n",
       "      <th></th>\n",
       "      <th></th>\n",
       "      <th></th>\n",
       "    </tr>\n",
       "  </thead>\n",
       "  <tbody>\n",
       "    <tr>\n",
       "      <th>Application denied by financial institution</th>\n",
       "      <td>0.009021</td>\n",
       "      <td>0.198410</td>\n",
       "      <td>0.035288</td>\n",
       "      <td>0.008971</td>\n",
       "      <td>0.176292</td>\n",
       "      <td>0.572018</td>\n",
       "    </tr>\n",
       "    <tr>\n",
       "      <th>Loan originated</th>\n",
       "      <td>0.005897</td>\n",
       "      <td>0.217021</td>\n",
       "      <td>0.022129</td>\n",
       "      <td>0.006674</td>\n",
       "      <td>0.147913</td>\n",
       "      <td>0.600365</td>\n",
       "    </tr>\n",
       "  </tbody>\n",
       "</table>\n",
       "</div>"
      ],
      "text/plain": [
       "applicant_race_name_1                        American Indian or Alaska Native  \\\n",
       "action_taken_name                                                               \n",
       "Application denied by financial institution                          0.009021   \n",
       "Loan originated                                                      0.005897   \n",
       "\n",
       "applicant_race_name_1                           Asian  \\\n",
       "action_taken_name                                       \n",
       "Application denied by financial institution  0.198410   \n",
       "Loan originated                              0.217021   \n",
       "\n",
       "applicant_race_name_1                        Black or African American  \\\n",
       "action_taken_name                                                        \n",
       "Application denied by financial institution                   0.035288   \n",
       "Loan originated                                               0.022129   \n",
       "\n",
       "applicant_race_name_1                        Native Hawaiian or Other Pacific Islander  \\\n",
       "action_taken_name                                                                        \n",
       "Application denied by financial institution                                   0.008971   \n",
       "Loan originated                                                               0.006674   \n",
       "\n",
       "applicant_race_name_1                        Not applicable     White  \n",
       "action_taken_name                                                      \n",
       "Application denied by financial institution        0.176292  0.572018  \n",
       "Loan originated                                    0.147913  0.600365  "
      ]
     },
     "execution_count": 225,
     "metadata": {},
     "output_type": "execute_result"
    }
   ],
   "source": [
    "race_props"
   ]
  },
  {
   "cell_type": "markdown",
   "id": "4e3dccc5",
   "metadata": {},
   "source": [
    "This table depicts the specific distribution of the actions taken. Overall, the distribution is similar with the largest differences in the proportion of White (57% vs 60%) and Asian (19% vs 21%) people. This suggests that those racial groups are slightly less likely to be denied a mortgage."
   ]
  },
  {
   "cell_type": "code",
   "execution_count": 224,
   "id": "2db6d04c",
   "metadata": {},
   "outputs": [
    {
     "data": {
      "text/html": [
       "<div>\n",
       "<style scoped>\n",
       "    .dataframe tbody tr th:only-of-type {\n",
       "        vertical-align: middle;\n",
       "    }\n",
       "\n",
       "    .dataframe tbody tr th {\n",
       "        vertical-align: top;\n",
       "    }\n",
       "\n",
       "    .dataframe thead th {\n",
       "        text-align: right;\n",
       "    }\n",
       "</style>\n",
       "<table border=\"1\" class=\"dataframe\">\n",
       "  <thead>\n",
       "    <tr style=\"text-align: right;\">\n",
       "      <th>applicant_ethnicity_name</th>\n",
       "      <th>Hispanic or Latino</th>\n",
       "      <th>Not Hispanic or Latino</th>\n",
       "      <th>Not applicable</th>\n",
       "    </tr>\n",
       "    <tr>\n",
       "      <th>action_taken_name</th>\n",
       "      <th></th>\n",
       "      <th></th>\n",
       "      <th></th>\n",
       "    </tr>\n",
       "  </thead>\n",
       "  <tbody>\n",
       "    <tr>\n",
       "      <th>Application denied by financial institution</th>\n",
       "      <td>0.195601</td>\n",
       "      <td>0.652833</td>\n",
       "      <td>0.151566</td>\n",
       "    </tr>\n",
       "    <tr>\n",
       "      <th>Loan originated</th>\n",
       "      <td>0.147508</td>\n",
       "      <td>0.714732</td>\n",
       "      <td>0.137760</td>\n",
       "    </tr>\n",
       "  </tbody>\n",
       "</table>\n",
       "</div>"
      ],
      "text/plain": [
       "applicant_ethnicity_name                     Hispanic or Latino  \\\n",
       "action_taken_name                                                 \n",
       "Application denied by financial institution            0.195601   \n",
       "Loan originated                                        0.147508   \n",
       "\n",
       "applicant_ethnicity_name                     Not Hispanic or Latino  \\\n",
       "action_taken_name                                                     \n",
       "Application denied by financial institution                0.652833   \n",
       "Loan originated                                            0.714732   \n",
       "\n",
       "applicant_ethnicity_name                     Not applicable  \n",
       "action_taken_name                                            \n",
       "Application denied by financial institution        0.151566  \n",
       "Loan originated                                    0.137760  "
      ]
     },
     "execution_count": 224,
     "metadata": {},
     "output_type": "execute_result"
    }
   ],
   "source": [
    "eth_props"
   ]
  },
  {
   "cell_type": "markdown",
   "id": "92986050",
   "metadata": {},
   "source": [
    "This table shows the distributions of ethnic groups. Those who identify as not Hispanic or Latino are overall more likely to have their loan originated (65% vs 71%), the opposite being true for those who idenify as being Hispanic or Latino (19% vs 14%)."
   ]
  },
  {
   "cell_type": "markdown",
   "id": "8a19289c",
   "metadata": {},
   "source": [
    "### Bias Metrics"
   ]
  },
  {
   "cell_type": "code",
   "execution_count": 51,
   "id": "5f41bfef",
   "metadata": {},
   "outputs": [],
   "source": [
    "X = prim_df.drop(['action_taken_name', 'action_taken', 'applicant_ethnicity_name',\n",
    "                  'applicant_race_name_2', 'applicant_race_name_1', 'applicant_sex_name', 'state_name'], axis = 1)\n",
    "y = pd.Series([1 if x != 3 else 0 for x in prim_df['action_taken']], name = 'was_approved')"
   ]
  },
  {
   "cell_type": "code",
   "execution_count": 55,
   "id": "24a497e6",
   "metadata": {},
   "outputs": [],
   "source": [
    "X_train, X_test, y_train, y_test = train_test_split(X, y, test_size = .2)"
   ]
  },
  {
   "cell_type": "code",
   "execution_count": 56,
   "id": "dc4c4c38",
   "metadata": {},
   "outputs": [],
   "source": [
    "train_df = pd.concat([X_train,y_train], axis=1)"
   ]
  },
  {
   "cell_type": "code",
   "execution_count": 47,
   "id": "d76a5c5c",
   "metadata": {},
   "outputs": [
    {
     "data": {
      "text/plain": [
       "1.095967568902497"
      ]
     },
     "execution_count": 47,
     "metadata": {},
     "output_type": "execute_result"
    }
   ],
   "source": [
    "calculate_disparate_impact(train_df, 'was_approved', 'applicant_sex', 1, 2)"
   ]
  },
  {
   "cell_type": "code",
   "execution_count": 38,
   "id": "8ca1cfa3",
   "metadata": {},
   "outputs": [],
   "source": [
    "estimator = RandomForestClassifier()\n",
    "param_grid = {'n_estimators': [250, 400],\n",
    "              'max_depth': [10, 50],\n",
    "              'min_samples_split': [2, 4],\n",
    "              'min_samples_leaf': [2, 4],\n",
    "             }"
   ]
  },
  {
   "cell_type": "code",
   "execution_count": 59,
   "id": "260603df",
   "metadata": {},
   "outputs": [],
   "source": [
    "gridsearch = GridSearchCV(estimator, param_grid)\n",
    "gridsearch.fit(X_train, y_train)"
   ]
  },
  {
   "cell_type": "markdown",
   "id": "6ef1a206",
   "metadata": {},
   "source": [
    "^^ have not run on all parameters yet"
   ]
  },
  {
   "cell_type": "markdown",
   "id": "690dca10",
   "metadata": {},
   "source": [
    "### Bias Aware Model Building"
   ]
  },
  {
   "cell_type": "code",
   "execution_count": 111,
   "id": "84a6a94e",
   "metadata": {},
   "outputs": [],
   "source": [
    "from os.path import dirname, abspath\n",
    "script_path = abspath(dirname('params.yaml'))\n",
    "params_path = os.path.join(script_path, 'params.yaml')\n",
    "\n",
    "with open(params_path, 'r') as file:\n",
    "    param_grid_file = yaml.safe_load(file)"
   ]
  },
  {
   "cell_type": "code",
   "execution_count": 114,
   "id": "b45b8a75",
   "metadata": {},
   "outputs": [],
   "source": [
    "param_grid = param_grid_file['detailed_rfc_params']\n",
    "estimator = RandomForestClassifier()\n",
    "\n",
    "grid_search = BiasAwareGridSearchCV(estimator, param_grid, train_df, 'was_approved', 'applicant_sex', 1, 2, verbose= False)\n",
    "grid_search.fit(X_train, y_train, calculate_disparate_impact)"
   ]
  },
  {
   "cell_type": "code",
   "execution_count": 115,
   "id": "c3341472",
   "metadata": {},
   "outputs": [
    {
     "data": {
      "text/plain": [
       "['grid_search_results.pkl']"
      ]
     },
     "execution_count": 115,
     "metadata": {},
     "output_type": "execute_result"
    }
   ],
   "source": [
    "joblib.dump(grid_search, 'grid_search_results.pkl')"
   ]
  },
  {
   "cell_type": "code",
   "execution_count": 240,
   "id": "e2cc5b9a",
   "metadata": {},
   "outputs": [
    {
     "data": {
      "text/plain": [
       "0.7089578049342864"
      ]
     },
     "execution_count": 240,
     "metadata": {},
     "output_type": "execute_result"
    }
   ],
   "source": [
    "opt_model = grid_search.find_optimum_model(3)\n",
    "opt_preds = opt_model.predict(X_test)\n",
    "(opt_preds == y_test).mean()"
   ]
  },
  {
   "cell_type": "code",
   "execution_count": 161,
   "id": "48650a40",
   "metadata": {},
   "outputs": [
    {
     "data": {
      "text/plain": [
       "0.7076896472215818"
      ]
     },
     "execution_count": 161,
     "metadata": {},
     "output_type": "execute_result"
    }
   ],
   "source": [
    "leastb_model = grid_search.select_least_biased_model()\n",
    "(leastb_model.predict(X_test) == y_test).mean()"
   ]
  },
  {
   "cell_type": "code",
   "execution_count": 162,
   "id": "a0f6a530",
   "metadata": {},
   "outputs": [
    {
     "data": {
      "text/plain": [
       "0.7183825224809777"
      ]
     },
     "execution_count": 162,
     "metadata": {},
     "output_type": "execute_result"
    }
   ],
   "source": [
    "bestacc_model = grid_search.select_highest_accuracy_model()\n",
    "(bestacc_model.predict(X_test) == y_test).mean()"
   ]
  },
  {
   "cell_type": "markdown",
   "id": "77058a1d",
   "metadata": {},
   "source": [
    "Seems like the least biased model does better in terms of accuracy when compared to the optimum model, which is interesting. This dataset is unbalanced, which is likely a factor in how the models turned out. In total, the gridsearch took around 80 hours to run on about 300,000 rows."
   ]
  },
  {
   "cell_type": "markdown",
   "id": "d69ae791",
   "metadata": {},
   "source": [
    "#### Comparing disparate impact"
   ]
  },
  {
   "cell_type": "code",
   "execution_count": 243,
   "id": "a4350205",
   "metadata": {},
   "outputs": [
    {
     "data": {
      "text/plain": [
       "0.9836212274240939"
      ]
     },
     "execution_count": 243,
     "metadata": {},
     "output_type": "execute_result"
    }
   ],
   "source": [
    "calc_original = X_test.copy()\n",
    "calc_original['actual'] = y_test\n",
    "calculate_disparate_impact(calc_original, 'actual', 'applicant_sex', 1, 2)"
   ]
  },
  {
   "cell_type": "code",
   "execution_count": 241,
   "id": "de840491",
   "metadata": {},
   "outputs": [
    {
     "data": {
      "text/plain": [
       "0.854197612083735"
      ]
     },
     "execution_count": 241,
     "metadata": {},
     "output_type": "execute_result"
    }
   ],
   "source": [
    "calc_di = X_test.copy()\n",
    "calc_di['preds'] = opt_preds\n",
    "calculate_disparate_impact(calc_di, 'preds', 'applicant_sex', 1, 2)"
   ]
  },
  {
   "cell_type": "markdown",
   "id": "b2b03b49",
   "metadata": {},
   "source": [
    "The disparate impact seemed to have improved after selecting the optimum model using the bias aware grid search"
   ]
  },
  {
   "cell_type": "code",
   "execution_count": null,
   "id": "1e3d4961",
   "metadata": {},
   "outputs": [],
   "source": []
  }
 ],
 "metadata": {
  "kernelspec": {
   "display_name": "Python 3 (ipykernel)",
   "language": "python",
   "name": "python3"
  },
  "language_info": {
   "codemirror_mode": {
    "name": "ipython",
    "version": 3
   },
   "file_extension": ".py",
   "mimetype": "text/x-python",
   "name": "python",
   "nbconvert_exporter": "python",
   "pygments_lexer": "ipython3",
   "version": "3.11.5"
  }
 },
 "nbformat": 4,
 "nbformat_minor": 5
}
